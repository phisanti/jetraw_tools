{
 "cells": [
  {
   "cell_type": "code",
   "execution_count": null,
   "metadata": {},
   "outputs": [],
   "source": [
    "import os\n",
    "# Running Jetraw tools interactively # requires to add the DLL manually\n",
    "os.environ['DYLD_FALLBACK_LIBRARY_PATH'] = '$DYLD_LIBRARY_PATH:/Applications/Jetraw UI.app/Contents/jetraw/lib/'\n",
    "from jetraw_tools.folder_compression import process_image, compress_folder\n",
    "import locale\n",
    "\n",
    "# Set locale to prevent encoding issues when objects are passed to hte C libraries\n",
    "locale.setlocale(locale.LC_ALL, locale.getlocale())\n",
    "\n",
    "# Load calibration file.\n",
    "calibration_file = \"calfile.dat\"\n",
    "\n",
    "images_folder = \"path/to/images\"\n",
    "\n",
    "identifier=\"Axxxxx_id\""
   ]
  },
  {
   "cell_type": "code",
   "execution_count": null,
   "metadata": {},
   "outputs": [],
   "source": [
    "import tifffile\n",
    "import numpy as np\n",
    "tiff_images = [f for f in os.listdir(images_folder) if f.endswith('.tif')]\n",
    "sample_image = tiff_images[0]\n",
    "\n",
    "with tifffile.TiffFile(os.path.join(images_folder, sample_image)) as img:\n",
    "    img_map = img.asarray().astype(np.uint16)\n",
    "    ome_metadata = img.ome_metadata"
   ]
  },
  {
   "cell_type": "code",
   "execution_count": null,
   "metadata": {},
   "outputs": [],
   "source": [
    "\n",
    "process_image(img_map, \"test_process_image\", calibration_file, identifier, ome_metadata, ome_bool=True, metadata_json=True)"
   ]
  },
  {
   "cell_type": "code",
   "execution_count": null,
   "metadata": {},
   "outputs": [],
   "source": [
    "\n",
    "compress_folder(tiff_images, calibration_file, identifier, image_extension=\".tif\", process_metadata=True, metadata_json=True, verbose=False)"
   ]
  }
 ],
 "metadata": {
  "kernelspec": {
   "display_name": "jetraw_compression",
   "language": "python",
   "name": "python3"
  },
  "language_info": {
   "codemirror_mode": {
    "name": "ipython",
    "version": 3
   },
   "file_extension": ".py",
   "mimetype": "text/x-python",
   "name": "python",
   "nbconvert_exporter": "python",
   "pygments_lexer": "ipython3",
   "version": "3.11.7"
  }
 },
 "nbformat": 4,
 "nbformat_minor": 2
}
